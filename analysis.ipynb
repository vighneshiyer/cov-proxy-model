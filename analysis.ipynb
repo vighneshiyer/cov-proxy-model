{
 "cells": [
  {
   "cell_type": "code",
   "execution_count": 16,
   "id": "55c6b4f1-5b3e-42de-bec6-233be49a5e58",
   "metadata": {},
   "outputs": [
    {
     "data": {
      "text/plain": [
       "<module 'modeling.coverage_parser' from '/nscratch/vighneshiyer/cov-proxy-model/modeling/coverage_parser.py'>"
      ]
     },
     "execution_count": 16,
     "metadata": {},
     "output_type": "execute_result"
    }
   ],
   "source": [
    "from pathlib import Path\n",
    "from typing import List, Tuple, Optional, Union\n",
    "from pydantic import BaseModel\n",
    "from enum import Enum\n",
    "import os\n",
    "from joblib import Parallel, delayed\n",
    "from dataclasses import dataclass\n",
    "\n",
    "import importlib\n",
    "import modeling\n",
    "importlib.reload(modeling)\n",
    "import modeling.riscv_dv as riscv_dv\n",
    "importlib.reload(modeling.riscv_dv)\n",
    "import modeling.coverage_parser as coverage_parser\n",
    "importlib.reload(modeling.coverage_parser)"
   ]
  },
  {
   "cell_type": "code",
   "execution_count": 22,
   "id": "9c3dc8bc-814a-4f24-975a-de6aa6165b14",
   "metadata": {},
   "outputs": [],
   "source": [
    "class Timeout:\n",
    "    pass\n",
    "@dataclass\n",
    "class Pass:\n",
    "    pass_cycles: int\n",
    "@dataclass\n",
    "class Fail:\n",
    "    fail_cycles: Optional[int] # None = failed for unknown reason (e.g. bad syscall), int = failed due to timeout in given cycles\n",
    "    \n",
    "@dataclass\n",
    "class TestData:\n",
    "    config: riscv_dv.RiscvDvConfig\n",
    "    cov_data: Optional[List[coverage_parser.cov_t]]\n",
    "    spike_status: Optional[int]  # None = timeout, int value = number of lines of spike.log (roughly correlated with number of instructions executed)\n",
    "    rtl_sim_status: Union[Pass, Fail] # pass: cycles, fail: timeout and cycles, fail: no reason\n",
    "    test_id: int\n",
    "    test_iteration: int\n",
    "    \n",
    "def read_last_line(file: Path) -> str:\n",
    "    with open(file, 'rb') as f:\n",
    "        try:  # catch OSError in case of a one line file \n",
    "            f.seek(-2, os.SEEK_END)\n",
    "            while f.read(1) != b'\\n':\n",
    "                f.seek(-2, os.SEEK_CUR)\n",
    "        except OSError:\n",
    "            f.seek(0)\n",
    "        last_line = f.readline().decode()\n",
    "    return last_line"
   ]
  },
  {
   "cell_type": "code",
   "execution_count": 27,
   "id": "d72068c0-34e1-4b66-abf2-e5ac1d4b0e26",
   "metadata": {},
   "outputs": [],
   "source": [
    "def parse_test(test_id_folder: Path) -> List[TestData]:\n",
    "    # Figure out how many iterations were run for a given test id, look at the maximum number of file names\n",
    "    n_iterations: int = int(max([x.name.split('.')[0] for x in test_id_folder.iterdir()])[0])\n",
    "    test_data: List[TestData] = []\n",
    "    print(f\"Parsing test {test_id_folder}\")\n",
    "    for i in range(n_iterations):\n",
    "        riscv_dv_config = riscv_dv.RiscvDvConfig.parse_raw((test_id_folder / f\"{i}.json\").read_text())\n",
    "        \n",
    "        cov_dat_file = (test_id_folder / f\"{i}.cov.dat\")\n",
    "        if cov_dat_file.exists():\n",
    "            cov_data = [coverage_parser.parse_line(line) for line in cov_dat_file.read_text().split('\\n')[1:] if len(line) != 0]\n",
    "        else:\n",
    "            cov_data = None\n",
    "        \n",
    "        spike_status_str = (test_id_folder / f\"{i}.spike.status\").read_text()\n",
    "        if spike_status_str == \"TIMEOUT\":\n",
    "            spike_status = None\n",
    "        else:\n",
    "            spike_status = int(spike_status_str)\n",
    "            \n",
    "        sim_log_file = (test_id_folder / f\"{i}.sim.log\")\n",
    "        sim_log_str = read_last_line(sim_log_file)\n",
    "        if sim_log_str.startswith(\"*** PASSED ***\"):\n",
    "            rtl_sim_status = Pass(pass_cycles=int(sim_log_str.split(' ')[5]))\n",
    "        elif sim_log_str.startswith(\"*** FAILED *** via trace_count\"):\n",
    "            rtl_sim_status = Fail(fail_cycles=int(sim_log_str.split(' ')[9]))\n",
    "        else:\n",
    "            rtl_sim_status = Fail(fail_cycles=None)\n",
    "        test_data.append(TestData(config=riscv_dv_config, cov_data=cov_data, spike_status=spike_status, rtl_sim_status=rtl_sim_status, test_id=test_id_folder.name, test_iteration=i))\n",
    "    return test_data"
   ]
  },
  {
   "cell_type": "code",
   "execution_count": 28,
   "id": "cbb4213d-72d2-4a53-93d8-d880f81c2ecd",
   "metadata": {
    "tags": []
   },
   "outputs": [
    {
     "data": {
      "text/plain": [
       "100"
      ]
     },
     "execution_count": 28,
     "metadata": {},
     "output_type": "execute_result"
    }
   ],
   "source": [
    "# Get coverage data and riscv-dv configs for each test\n",
    "data = Parallel(n_jobs=24)(delayed(parse_test)(test_id_folder) for test_id_folder in (Path.cwd() / \"configs\").iterdir())\n",
    "len(data)"
   ]
  },
  {
   "cell_type": "code",
   "execution_count": 32,
   "id": "ebcded42-52a0-49c7-9e59-b8bc68d958d8",
   "metadata": {},
   "outputs": [
    {
     "data": {
      "text/plain": [
       "RiscvDvConfig(plusarg_config={'num_of_tests': '1', 'enable_page_table_exception': '0', 'enable_interrupt': '0', 'enable_nested_interrupt': '0', 'enable_timer_irq': '0', 'num_of_sub_program': '5', 'instr_cnt': '200', 'no_ebreak': '1', 'no_ecall': '1', 'no_dret': '1', 'no_wfi': '1', 'no_branch_jump': '1', 'no_load_store': '1', 'no_csr_instr': '0', 'fix_sp': '1', 'use_push_data_section': '0', 'enable_illegal_csr_instruction': '0', 'enable_access_invalid_csr_level': '0', 'enable_misaligned_instr': '0', 'enable_dummy_csr_write': '0', 'allow_sfence_exception': '0', 'no_data_page': '1', 'no_directed_instr': '0', 'no_fence': '1', 'no_delegation': '1', 'illegal_instr_ratio': '63', 'hint_instr_ratio': '2', 'gen_all_csrs_by_default': '0', 'gen_csr_ro_write': '0', 'num_of_harts': '1', 'enable_unaligned_load_store': '0', 'force_m_delegation': '0', 'force_s_delegation': '0', 'require_signature_addr': '0', 'disable_compressed_instr': '0', 'randomize_csr': '0', 'tvec_alignment': '2', 'gen_debug_section': '0', 'bare_program_mode': '0', 'num_debug_sub_program': '0', 'enable_ebreak_in_debug_rom': '0', 'set_dcsr_ebreak': '0', 'enable_debug_single_step': '0', 'set_mstatus_tw': '0', 'set_mstatus_mprv': '1', 'enable_floating_point': '0', 'enable_vector_extension': '0', 'enable_b_extension': '0', 'enable_zba_extension': '0', 'enable_zbb_extension': '0', 'enable_zbc_extension': '0', 'enable_zbs_extension': '0', 'boot_mode': 'm'}, seed=2)"
      ]
     },
     "execution_count": 32,
     "metadata": {},
     "output_type": "execute_result"
    }
   ],
   "source": [
    "data[0][1].config"
   ]
  },
  {
   "cell_type": "code",
   "execution_count": null,
   "id": "b52997f4-90fe-467d-880c-aaad89a99800",
   "metadata": {},
   "outputs": [],
   "source": []
  }
 ],
 "metadata": {
  "kernelspec": {
   "display_name": "Python 3 (ipykernel)",
   "language": "python",
   "name": "python3"
  },
  "language_info": {
   "codemirror_mode": {
    "name": "ipython",
    "version": 3
   },
   "file_extension": ".py",
   "mimetype": "text/x-python",
   "name": "python",
   "nbconvert_exporter": "python",
   "pygments_lexer": "ipython3",
   "version": "3.9.12"
  }
 },
 "nbformat": 4,
 "nbformat_minor": 5
}
